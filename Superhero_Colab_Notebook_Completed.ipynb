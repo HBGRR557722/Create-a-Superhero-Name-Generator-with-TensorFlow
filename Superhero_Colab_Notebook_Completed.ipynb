{
  "nbformat": 4,
  "nbformat_minor": 0,
  "metadata": {
    "accelerator": "GPU",
    "colab": {
      "name": "Superhero - Colab Notebook - Completed.ipynb",
      "provenance": [],
      "collapsed_sections": [],
      "toc_visible": true
    },
    "kernelspec": {
      "display_name": "Python 3",
      "language": "python",
      "name": "python3"
    },
    "language_info": {
      "codemirror_mode": {
        "name": "ipython",
        "version": 3
      },
      "file_extension": ".py",
      "mimetype": "text/x-python",
      "name": "python",
      "nbconvert_exporter": "python",
      "pygments_lexer": "ipython3",
      "version": "3.8.5"
    }
  },
  "cells": [
    {
      "cell_type": "markdown",
      "metadata": {
        "id": "21XXWP7Fpt2L"
      },
      "source": [
        "# Superhero (and Supervillain) Name Generator\n",
        "\n",
        "---\n",
        "\n",
        "[Superhero Names Dataset](https://github.com/am1tyadav/superhero)"
      ]
    },
    {
      "cell_type": "markdown",
      "metadata": {
        "id": "H6P0NU5Cpt2R"
      },
      "source": [
        "## Task 2\n",
        "\n",
        "1. Import the data\n",
        "2. Create a tokenizer\n",
        "3. Char to index and Index to char dictionaries"
      ]
    },
    {
      "cell_type": "code",
      "metadata": {
        "colab": {
          "base_uri": "https://localhost:8080/"
        },
        "id": "srULhalZpt2M",
        "outputId": "e0f8c043-a664-4b42-cb3e-e8209c746001"
      },
      "source": [
        "!git clone https://github.com/am1tyadav/superhero"
      ],
      "execution_count": 1,
      "outputs": [
        {
          "output_type": "stream",
          "text": [
            "Cloning into 'superhero'...\n",
            "remote: Enumerating objects: 8, done.\u001b[K\n",
            "remote: Counting objects: 100% (8/8), done.\u001b[K\n",
            "remote: Compressing objects: 100% (7/7), done.\u001b[K\n",
            "remote: Total 8 (delta 0), reused 4 (delta 0), pack-reused 0\u001b[K\n",
            "Unpacking objects: 100% (8/8), done.\n"
          ],
          "name": "stdout"
        }
      ]
    },
    {
      "cell_type": "code",
      "metadata": {
        "colab": {
          "base_uri": "https://localhost:8080/",
          "height": 35
        },
        "id": "uq4CLmsLpt2P",
        "outputId": "af041d4a-d941-4e6f-8c02-f259f357ebdd"
      },
      "source": [
        "with open('superhero/superheroes.txt', 'r') as f:\n",
        "  data = f.read()\n",
        "\n",
        "data[:100]"
      ],
      "execution_count": 2,
      "outputs": [
        {
          "output_type": "execute_result",
          "data": {
            "application/vnd.google.colaboratory.intrinsic+json": {
              "type": "string"
            },
            "text/plain": [
              "'jumpa\\t\\ndoctor fate\\t\\nstarlight\\t\\nisildur\\t\\nlasher\\t\\nvarvara\\t\\nthe target\\t\\naxel\\t\\nbattra\\t\\nchangeling\\t\\npyrrh'"
            ]
          },
          "metadata": {
            "tags": []
          },
          "execution_count": 2
        }
      ]
    },
    {
      "cell_type": "code",
      "metadata": {
        "colab": {
          "base_uri": "https://localhost:8080/"
        },
        "id": "JqhtLuAHpt2R",
        "outputId": "8c3a8295-9340-48df-ee3d-b03681a5d90f"
      },
      "source": [
        "import tensorflow as tf \n",
        "print(tf.__version__)"
      ],
      "execution_count": 3,
      "outputs": [
        {
          "output_type": "stream",
          "text": [
            "2.4.1\n"
          ],
          "name": "stdout"
        }
      ]
    },
    {
      "cell_type": "code",
      "metadata": {
        "id": "95Lo1Yqzpt2T"
      },
      "source": [
        "tokenizer = tf.keras.preprocessing.text.Tokenizer(\n",
        "    filters='!\"#$%&()*+,-./:;<=>?@[\\\\]^_`{|}~',\n",
        "    split='\\n',\n",
        ")"
      ],
      "execution_count": 4,
      "outputs": []
    },
    {
      "cell_type": "code",
      "metadata": {
        "id": "qYfC4sj2pt2V"
      },
      "source": [
        "tokenizer.fit_on_texts(data)"
      ],
      "execution_count": 5,
      "outputs": []
    },
    {
      "cell_type": "code",
      "metadata": {
        "colab": {
          "base_uri": "https://localhost:8080/"
        },
        "id": "EO4-dPM6pt2X",
        "outputId": "cbadccae-c00f-446f-e0eb-425abe903813"
      },
      "source": [
        "char_to_index = tokenizer.word_index\n",
        "index_to_char = dict((v, k) for k, v in char_to_index.items())\n",
        "\n",
        "print(index_to_char)"
      ],
      "execution_count": 6,
      "outputs": [
        {
          "output_type": "stream",
          "text": [
            "{1: '\\t', 2: 'a', 3: 'e', 4: 'r', 5: 'o', 6: 'n', 7: 'i', 8: ' ', 9: 't', 10: 's', 11: 'l', 12: 'm', 13: 'h', 14: 'd', 15: 'c', 16: 'u', 17: 'g', 18: 'k', 19: 'b', 20: 'p', 21: 'y', 22: 'w', 23: 'f', 24: 'v', 25: 'j', 26: 'z', 27: 'x', 28: 'q'}\n"
          ],
          "name": "stdout"
        }
      ]
    },
    {
      "cell_type": "markdown",
      "metadata": {
        "id": "SMwtIw_Bpt2Z"
      },
      "source": [
        "## Task 3\n",
        "\n",
        "1. Converting between names and sequences"
      ]
    },
    {
      "cell_type": "code",
      "metadata": {
        "colab": {
          "base_uri": "https://localhost:8080/"
        },
        "id": "N7iQLIXzpt2a",
        "outputId": "64982add-8a48-4bda-f866-ee3eb9b97102"
      },
      "source": [
        "names = data.splitlines()\n",
        "names[:10]"
      ],
      "execution_count": 7,
      "outputs": [
        {
          "output_type": "execute_result",
          "data": {
            "text/plain": [
              "['jumpa\\t',\n",
              " 'doctor fate\\t',\n",
              " 'starlight\\t',\n",
              " 'isildur\\t',\n",
              " 'lasher\\t',\n",
              " 'varvara\\t',\n",
              " 'the target\\t',\n",
              " 'axel\\t',\n",
              " 'battra\\t',\n",
              " 'changeling\\t']"
            ]
          },
          "metadata": {
            "tags": []
          },
          "execution_count": 7
        }
      ]
    },
    {
      "cell_type": "code",
      "metadata": {
        "colab": {
          "base_uri": "https://localhost:8080/"
        },
        "id": "n_-TTfqipt2c",
        "outputId": "cecd1aa7-a749-458b-8a5d-6f87d639ac47"
      },
      "source": [
        "tokenizer.texts_to_sequences(names[0])"
      ],
      "execution_count": 8,
      "outputs": [
        {
          "output_type": "execute_result",
          "data": {
            "text/plain": [
              "[[25], [16], [12], [20], [2], [1]]"
            ]
          },
          "metadata": {
            "tags": []
          },
          "execution_count": 8
        }
      ]
    },
    {
      "cell_type": "code",
      "metadata": {
        "id": "P6IsKH1Upt2e"
      },
      "source": [
        "def name_to_seq(name):\n",
        "  return [tokenizer.texts_to_sequences(c)[0][0] for c in name]"
      ],
      "execution_count": 9,
      "outputs": []
    },
    {
      "cell_type": "code",
      "metadata": {
        "colab": {
          "base_uri": "https://localhost:8080/"
        },
        "id": "TuLUiMP3pt2g",
        "outputId": "0f81ea57-c563-4ec0-b4b3-c01d3da103b1"
      },
      "source": [
        "name_to_seq(names[0])"
      ],
      "execution_count": 10,
      "outputs": [
        {
          "output_type": "execute_result",
          "data": {
            "text/plain": [
              "[25, 16, 12, 20, 2, 1]"
            ]
          },
          "metadata": {
            "tags": []
          },
          "execution_count": 10
        }
      ]
    },
    {
      "cell_type": "code",
      "metadata": {
        "id": "yFUYhimKpt2h"
      },
      "source": [
        "def seq_to_name(seq):\n",
        "  return ''.join([index_to_char[i] for i in seq if i != 0])"
      ],
      "execution_count": 11,
      "outputs": []
    },
    {
      "cell_type": "code",
      "metadata": {
        "colab": {
          "base_uri": "https://localhost:8080/",
          "height": 35
        },
        "id": "ROhCqmhLpt2k",
        "outputId": "bdc9fecb-c782-4fe2-a67a-b88510214510"
      },
      "source": [
        "seq_to_name(name_to_seq(names[0]))"
      ],
      "execution_count": 12,
      "outputs": [
        {
          "output_type": "execute_result",
          "data": {
            "application/vnd.google.colaboratory.intrinsic+json": {
              "type": "string"
            },
            "text/plain": [
              "'jumpa\\t'"
            ]
          },
          "metadata": {
            "tags": []
          },
          "execution_count": 12
        }
      ]
    },
    {
      "cell_type": "markdown",
      "metadata": {
        "id": "uCbAzsNjpt2m"
      },
      "source": [
        "## Task 4\n",
        "\n",
        "1. Creating sequences\n",
        "2. Padding all sequences"
      ]
    },
    {
      "cell_type": "code",
      "metadata": {
        "id": "zstNn-0dpt2m"
      },
      "source": [
        "sequences= []\n",
        "\n",
        "for name in names:\n",
        "  seq = name_to_seq(name)\n",
        "  if len(seq) >= 2:\n",
        "    sequences += [seq[:i] for i in range(2, len(seq) + 1)]"
      ],
      "execution_count": 14,
      "outputs": []
    },
    {
      "cell_type": "code",
      "metadata": {
        "colab": {
          "base_uri": "https://localhost:8080/"
        },
        "id": "BjRTMysvpt2o",
        "outputId": "2985779e-5aa4-46e0-97fa-980e0f101e39"
      },
      "source": [
        "sequences[:10]"
      ],
      "execution_count": 15,
      "outputs": [
        {
          "output_type": "execute_result",
          "data": {
            "text/plain": [
              "[[25, 16],\n",
              " [25, 16, 12],\n",
              " [25, 16, 12, 20],\n",
              " [25, 16, 12, 20, 2],\n",
              " [25, 16, 12, 20, 2, 1],\n",
              " [14, 5],\n",
              " [14, 5, 15],\n",
              " [14, 5, 15, 9],\n",
              " [14, 5, 15, 9, 5],\n",
              " [14, 5, 15, 9, 5, 4]]"
            ]
          },
          "metadata": {
            "tags": []
          },
          "execution_count": 15
        }
      ]
    },
    {
      "cell_type": "code",
      "metadata": {
        "colab": {
          "base_uri": "https://localhost:8080/"
        },
        "id": "SR68pu2tpt2q",
        "outputId": "2e25b0b1-939f-4741-e3ec-cf2f1bb3ade4"
      },
      "source": [
        "max_len = max([len(x) for x in sequences])\n",
        "print(max_len)"
      ],
      "execution_count": 16,
      "outputs": [
        {
          "output_type": "stream",
          "text": [
            "33\n"
          ],
          "name": "stdout"
        }
      ]
    },
    {
      "cell_type": "code",
      "metadata": {
        "colab": {
          "base_uri": "https://localhost:8080/"
        },
        "id": "h_1BtWO7pt2r",
        "outputId": "18799152-9d2c-4839-cd2a-e6106166f5a7"
      },
      "source": [
        "padded_sequences = tf.keras.preprocessing.sequence.pad_sequences(\n",
        "    sequences, padding='pre',\n",
        "    maxlen=max_len\n",
        ")\n",
        "\n",
        "print(padded_sequences[0])"
      ],
      "execution_count": 17,
      "outputs": [
        {
          "output_type": "stream",
          "text": [
            "[ 0  0  0  0  0  0  0  0  0  0  0  0  0  0  0  0  0  0  0  0  0  0  0  0\n",
            "  0  0  0  0  0  0  0 25 16]\n"
          ],
          "name": "stdout"
        }
      ]
    },
    {
      "cell_type": "code",
      "metadata": {
        "colab": {
          "base_uri": "https://localhost:8080/"
        },
        "id": "sPlrLRpSpt2t",
        "outputId": "5b0f436e-de1d-4a71-9440-61a85e0b9514"
      },
      "source": [
        "padded_sequences.shape"
      ],
      "execution_count": 18,
      "outputs": [
        {
          "output_type": "execute_result",
          "data": {
            "text/plain": [
              "(88279, 33)"
            ]
          },
          "metadata": {
            "tags": []
          },
          "execution_count": 18
        }
      ]
    },
    {
      "cell_type": "markdown",
      "metadata": {
        "id": "4WPypqx8RfRu"
      },
      "source": [
        "## Task 5: Creating Training and Validation Sets\n",
        "\n",
        "1. Creating training and validation sets"
      ]
    },
    {
      "cell_type": "code",
      "metadata": {
        "colab": {
          "base_uri": "https://localhost:8080/"
        },
        "id": "BE4BIeSnpt2v",
        "outputId": "9e808b71-4fcb-43c7-f9f5-36b6cf644a65"
      },
      "source": [
        "x, y = padded_sequences[:, :-1], padded_sequences[:, -1]\n",
        "print(x.shape, y.shape)"
      ],
      "execution_count": 19,
      "outputs": [
        {
          "output_type": "stream",
          "text": [
            "(88279, 32) (88279,)\n"
          ],
          "name": "stdout"
        }
      ]
    },
    {
      "cell_type": "code",
      "metadata": {
        "colab": {
          "base_uri": "https://localhost:8080/"
        },
        "id": "jWKfJNVXRfRu",
        "outputId": "e47c775c-737b-42c8-81dd-db5501dc2f74"
      },
      "source": [
        "from sklearn.model_selection import train_test_split\n",
        "\n",
        "x_train, x_test, y_train, y_test = train_test_split(x, y)\n",
        "\n",
        "print(x_train.shape, y_train.shape)\n",
        "print(x_test.shape, y_test.shape)"
      ],
      "execution_count": 20,
      "outputs": [
        {
          "output_type": "stream",
          "text": [
            "(66209, 32) (66209,)\n",
            "(22070, 32) (22070,)\n"
          ],
          "name": "stdout"
        }
      ]
    },
    {
      "cell_type": "code",
      "metadata": {
        "colab": {
          "base_uri": "https://localhost:8080/"
        },
        "id": "cgqRZtqnpt2x",
        "outputId": "a4debb99-63bd-4d0b-c5a8-bb960850ea60"
      },
      "source": [
        "num_chars = len(char_to_index.keys()) + 1\n",
        "print(num_chars)"
      ],
      "execution_count": 21,
      "outputs": [
        {
          "output_type": "stream",
          "text": [
            "29\n"
          ],
          "name": "stdout"
        }
      ]
    },
    {
      "cell_type": "markdown",
      "metadata": {
        "id": "UsM2fs3_RfRu"
      },
      "source": [
        "## Task 6: Creating the Model"
      ]
    },
    {
      "cell_type": "code",
      "metadata": {
        "colab": {
          "base_uri": "https://localhost:8080/"
        },
        "id": "2dPlCmTYRfRu",
        "outputId": "f0ddecb7-9c93-44f0-95c0-6c78b510e699"
      },
      "source": [
        "from tensorflow.keras.models import Sequential\n",
        "from tensorflow.keras.layers import Embedding, Conv1D, MaxPool1D, LSTM\n",
        "from tensorflow.keras.layers import Bidirectional, Dense\n",
        "\n",
        "model = Sequential([\n",
        "                    Embedding(num_chars, 8, input_length=max_len-1),\n",
        "                    Conv1D(64, 5, strides=1, activation='tanh', padding='causal'),\n",
        "                    MaxPool1D(2),\n",
        "                    LSTM(32),\n",
        "                    Dense(num_chars, activation='softmax')\n",
        "])\n",
        "\n",
        "model.compile(\n",
        "    loss='sparse_categorical_crossentropy',\n",
        "    optimizer='adam',\n",
        "    metrics=['accuracy']\n",
        ")\n",
        "\n",
        "model.summary()"
      ],
      "execution_count": 22,
      "outputs": [
        {
          "output_type": "stream",
          "text": [
            "Model: \"sequential\"\n",
            "_________________________________________________________________\n",
            "Layer (type)                 Output Shape              Param #   \n",
            "=================================================================\n",
            "embedding (Embedding)        (None, 32, 8)             232       \n",
            "_________________________________________________________________\n",
            "conv1d (Conv1D)              (None, 32, 64)            2624      \n",
            "_________________________________________________________________\n",
            "max_pooling1d (MaxPooling1D) (None, 16, 64)            0         \n",
            "_________________________________________________________________\n",
            "lstm (LSTM)                  (None, 32)                12416     \n",
            "_________________________________________________________________\n",
            "dense (Dense)                (None, 29)                957       \n",
            "=================================================================\n",
            "Total params: 16,229\n",
            "Trainable params: 16,229\n",
            "Non-trainable params: 0\n",
            "_________________________________________________________________\n"
          ],
          "name": "stdout"
        }
      ]
    },
    {
      "cell_type": "markdown",
      "metadata": {
        "id": "du_WBvUHRfRu"
      },
      "source": [
        "## Task 7: Training the Model"
      ]
    },
    {
      "cell_type": "code",
      "metadata": {
        "colab": {
          "base_uri": "https://localhost:8080/"
        },
        "id": "j0Ssl4qupt22",
        "outputId": "4d75ac25-8066-4149-dfba-f005e53602dc"
      },
      "source": [
        "h = model.fit(\n",
        "    x_train, y_train,\n",
        "    validation_data=(x_test, y_test),\n",
        "    epochs=50, verbose=2,\n",
        "    callbacks=[\n",
        "               tf.keras.callbacks.EarlyStopping(monitor='val_accuracy', patience=3)\n",
        "    ]\n",
        ")"
      ],
      "execution_count": 23,
      "outputs": [
        {
          "output_type": "stream",
          "text": [
            "Epoch 1/50\n",
            "2070/2070 - 40s - loss: 2.7641 - accuracy: 0.1890 - val_loss: 2.5848 - val_accuracy: 0.2288\n",
            "Epoch 2/50\n",
            "2070/2070 - 8s - loss: 2.5475 - accuracy: 0.2341 - val_loss: 2.5039 - val_accuracy: 0.2507\n",
            "Epoch 3/50\n",
            "2070/2070 - 8s - loss: 2.4766 - accuracy: 0.2513 - val_loss: 2.4482 - val_accuracy: 0.2617\n",
            "Epoch 4/50\n",
            "2070/2070 - 8s - loss: 2.4259 - accuracy: 0.2655 - val_loss: 2.4119 - val_accuracy: 0.2699\n",
            "Epoch 5/50\n",
            "2070/2070 - 8s - loss: 2.3829 - accuracy: 0.2762 - val_loss: 2.3736 - val_accuracy: 0.2852\n",
            "Epoch 6/50\n",
            "2070/2070 - 8s - loss: 2.3455 - accuracy: 0.2870 - val_loss: 2.3486 - val_accuracy: 0.2914\n",
            "Epoch 7/50\n",
            "2070/2070 - 8s - loss: 2.3145 - accuracy: 0.2973 - val_loss: 2.3237 - val_accuracy: 0.2996\n",
            "Epoch 8/50\n",
            "2070/2070 - 8s - loss: 2.2869 - accuracy: 0.3066 - val_loss: 2.3045 - val_accuracy: 0.2986\n",
            "Epoch 9/50\n",
            "2070/2070 - 8s - loss: 2.2626 - accuracy: 0.3146 - val_loss: 2.2885 - val_accuracy: 0.3087\n",
            "Epoch 10/50\n",
            "2070/2070 - 8s - loss: 2.2405 - accuracy: 0.3208 - val_loss: 2.2733 - val_accuracy: 0.3115\n",
            "Epoch 11/50\n",
            "2070/2070 - 8s - loss: 2.2210 - accuracy: 0.3252 - val_loss: 2.2600 - val_accuracy: 0.3159\n",
            "Epoch 12/50\n",
            "2070/2070 - 8s - loss: 2.2028 - accuracy: 0.3335 - val_loss: 2.2477 - val_accuracy: 0.3227\n",
            "Epoch 13/50\n",
            "2070/2070 - 8s - loss: 2.1868 - accuracy: 0.3377 - val_loss: 2.2422 - val_accuracy: 0.3245\n",
            "Epoch 14/50\n",
            "2070/2070 - 8s - loss: 2.1714 - accuracy: 0.3442 - val_loss: 2.2381 - val_accuracy: 0.3260\n",
            "Epoch 15/50\n",
            "2070/2070 - 8s - loss: 2.1573 - accuracy: 0.3480 - val_loss: 2.2358 - val_accuracy: 0.3231\n",
            "Epoch 16/50\n",
            "2070/2070 - 8s - loss: 2.1444 - accuracy: 0.3495 - val_loss: 2.2195 - val_accuracy: 0.3342\n",
            "Epoch 17/50\n",
            "2070/2070 - 8s - loss: 2.1324 - accuracy: 0.3563 - val_loss: 2.2176 - val_accuracy: 0.3365\n",
            "Epoch 18/50\n",
            "2070/2070 - 8s - loss: 2.1215 - accuracy: 0.3592 - val_loss: 2.2121 - val_accuracy: 0.3403\n",
            "Epoch 19/50\n",
            "2070/2070 - 8s - loss: 2.1100 - accuracy: 0.3633 - val_loss: 2.2048 - val_accuracy: 0.3423\n",
            "Epoch 20/50\n",
            "2070/2070 - 8s - loss: 2.1000 - accuracy: 0.3667 - val_loss: 2.2085 - val_accuracy: 0.3398\n",
            "Epoch 21/50\n",
            "2070/2070 - 8s - loss: 2.0901 - accuracy: 0.3715 - val_loss: 2.2022 - val_accuracy: 0.3453\n",
            "Epoch 22/50\n",
            "2070/2070 - 8s - loss: 2.0812 - accuracy: 0.3734 - val_loss: 2.1970 - val_accuracy: 0.3456\n",
            "Epoch 23/50\n",
            "2070/2070 - 8s - loss: 2.0710 - accuracy: 0.3764 - val_loss: 2.1943 - val_accuracy: 0.3487\n",
            "Epoch 24/50\n",
            "2070/2070 - 8s - loss: 2.0629 - accuracy: 0.3791 - val_loss: 2.1968 - val_accuracy: 0.3463\n",
            "Epoch 25/50\n",
            "2070/2070 - 8s - loss: 2.0548 - accuracy: 0.3812 - val_loss: 2.1920 - val_accuracy: 0.3509\n",
            "Epoch 26/50\n",
            "2070/2070 - 8s - loss: 2.0479 - accuracy: 0.3845 - val_loss: 2.1892 - val_accuracy: 0.3534\n",
            "Epoch 27/50\n",
            "2070/2070 - 8s - loss: 2.0394 - accuracy: 0.3863 - val_loss: 2.1931 - val_accuracy: 0.3503\n",
            "Epoch 28/50\n",
            "2070/2070 - 8s - loss: 2.0328 - accuracy: 0.3886 - val_loss: 2.1848 - val_accuracy: 0.3534\n",
            "Epoch 29/50\n",
            "2070/2070 - 8s - loss: 2.0257 - accuracy: 0.3903 - val_loss: 2.1909 - val_accuracy: 0.3547\n",
            "Epoch 30/50\n",
            "2070/2070 - 8s - loss: 2.0195 - accuracy: 0.3930 - val_loss: 2.1835 - val_accuracy: 0.3559\n",
            "Epoch 31/50\n",
            "2070/2070 - 8s - loss: 2.0134 - accuracy: 0.3954 - val_loss: 2.1854 - val_accuracy: 0.3606\n",
            "Epoch 32/50\n",
            "2070/2070 - 8s - loss: 2.0073 - accuracy: 0.3975 - val_loss: 2.1843 - val_accuracy: 0.3591\n",
            "Epoch 33/50\n",
            "2070/2070 - 8s - loss: 2.0020 - accuracy: 0.4001 - val_loss: 2.1821 - val_accuracy: 0.3588\n",
            "Epoch 34/50\n",
            "2070/2070 - 8s - loss: 1.9969 - accuracy: 0.3994 - val_loss: 2.1810 - val_accuracy: 0.3605\n"
          ],
          "name": "stdout"
        }
      ]
    },
    {
      "cell_type": "code",
      "metadata": {
        "colab": {
          "base_uri": "https://localhost:8080/",
          "height": 264
        },
        "id": "AkkG3lEOm4OS",
        "outputId": "efad8b0f-344d-4f22-ac6c-686ffbc101db"
      },
      "source": [
        "from matplotlib import pyplot as plt\n",
        "\n",
        "epochs_ran = len(h.history['loss'])\n",
        "\n",
        "plt.plot(range(0, epochs_ran), h.history['val_accuracy'], label='Validation')\n",
        "plt.plot(range(0, epochs_ran), h.history['accuracy'], label='Training')\n",
        "plt.legend()\n",
        "plt.show()"
      ],
      "execution_count": 24,
      "outputs": [
        {
          "output_type": "display_data",
          "data": {
            "image/png": "[encoded data removed]",
            "text/plain": [
              "<Figure size 432x288 with 1 Axes>"
            ]
          },
          "metadata": {
            "tags": [],
            "needs_background": "light"
          }
        }
      ]
    },
    {
      "cell_type": "markdown",
      "metadata": {
        "id": "j74nkW5xRfRu"
      },
      "source": [
        "## Task 8: Generate Names!"
      ]
    },
    {
      "cell_type": "code",
      "metadata": {
        "id": "9f50aTRcpt24"
      },
      "source": [
        "def generate_names(seed):\n",
        "  for i in range(0, 40):\n",
        "    seq = name_to_seq(seed)\n",
        "    padded = tf.keras.preprocessing.sequence.pad_sequences([seq], padding='pre',\n",
        "                                                           maxlen=max_len-1,\n",
        "                                                           truncating='pre')\n",
        "    pred = model.predict(padded)[0]\n",
        "    pred_char = index_to_char[tf.argmax(pred).numpy()]\n",
        "    seed += pred_char\n",
        "\n",
        "    if pred_char == '\\t':\n",
        "      break\n",
        "  print(seed)"
      ],
      "execution_count": 25,
      "outputs": []
    },
    {
      "cell_type": "code",
      "metadata": {
        "colab": {
          "base_uri": "https://localhost:8080/"
        },
        "id": "faQ0FInlpt26",
        "outputId": "319e3e40-fe70-443e-db9f-25adb56ccb61"
      },
      "source": [
        "generate_names('x')"
      ],
      "execution_count": 26,
      "outputs": [
        {
          "output_type": "stream",
          "text": [
            "xeno man\t\n"
          ],
          "name": "stdout"
        }
      ]
    },
    {
      "cell_type": "code",
      "metadata": {
        "id": "dD7DcpHiopOv"
      },
      "source": [
        ""
      ],
      "execution_count": null,
      "outputs": []
    }
  ]
}